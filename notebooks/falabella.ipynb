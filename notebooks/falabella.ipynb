{
 "cells": [
  {
   "cell_type": "code",
   "execution_count": null,
   "metadata": {},
   "outputs": [],
   "source": [
    "from bs4 import BeautifulSoup\n",
    "from selenium import webdriver\n",
    "import pandas as pd\n",
    "import time"
   ]
  },
  {
   "cell_type": "code",
   "execution_count": null,
   "metadata": {},
   "outputs": [],
   "source": [
    "def parse_falabella(url):\n",
    "\n",
    "    # create a new Chrome browser instance\n",
    "    driver = webdriver.Firefox()\n",
    "\n",
    "    # navigate to the website you want to scrape\n",
    "    driver.get(url)\n",
    "\n",
    "    # wait for the JavaScript to generate the content\n",
    "    time.sleep(3)\n",
    "    driver.implicitly_wait(30)\n",
    "\n",
    "    # parse the HTML content of the page\n",
    "    soup = BeautifulSoup(driver.page_source, 'html.parser')\n",
    "\n",
    "    # close the browser instance\n",
    "    driver.quit()\n",
    "\n",
    "    # find all elements with the specified class\n",
    "    items = soup.find_all('a', class_='card box-shadow user-select-none ng-star-inserted')\n",
    "\n",
    "    df = []\n",
    "\n",
    "    # extract the information you need from each item\n",
    "    for item in items:\n",
    "        # do your scraping here, for example:\n",
    "        link = 'https://www.bancofalabella.cl/' +  str(item['custom-route'])\n",
    "        desc1 = item.find('img')['alt']\n",
    "        desc2 = item.find('p').text\n",
    "        dias = item.find('span').text\n",
    "\n",
    "        df.append([link, desc1, desc2, dias])\n",
    "\n",
    "    df = pd.DataFrame(df, columns=['LINK', 'DESCRICION_1', 'DESCRIPCION_2', 'DIAS'])\n",
    "\n",
    "    df.insert(loc=0, column='ENTIDAD', value='FALABELLA')\n",
    "    df.insert(loc=1, column='DESCRIPCION_URL', value='N_A')\n",
    "\n",
    "    return df\n"
   ]
  },
  {
   "cell_type": "code",
   "execution_count": null,
   "metadata": {},
   "outputs": [],
   "source": [
    "df_final = parse_falabella('https://www.bancofalabella.cl/descuentos/todos-los-descuentos/orden/destacados')\n",
    "df_final"
   ]
  },
  {
   "cell_type": "code",
   "execution_count": null,
   "metadata": {},
   "outputs": [],
   "source": [
    "df_final.to_csv('falabella.csv', sep=';', decimal=',', index=False, encoding='utf-8-sig')"
   ]
  }
 ],
 "metadata": {
  "kernelspec": {
   "display_name": "base",
   "language": "python",
   "name": "python3"
  },
  "language_info": {
   "codemirror_mode": {
    "name": "ipython",
    "version": 3
   },
   "file_extension": ".py",
   "mimetype": "text/x-python",
   "name": "python",
   "nbconvert_exporter": "python",
   "pygments_lexer": "ipython3",
   "version": "3.9.13"
  },
  "vscode": {
   "interpreter": {
    "hash": "ad2bdc8ecc057115af97d19610ffacc2b4e99fae6737bb82f5d7fb13d2f2c186"
   }
  }
 },
 "nbformat": 4,
 "nbformat_minor": 4
}
