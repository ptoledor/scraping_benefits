{
 "cells": [
  {
   "cell_type": "code",
   "execution_count": 4,
   "metadata": {},
   "outputs": [],
   "source": [
    "import pandas as pd"
   ]
  },
  {
   "cell_type": "code",
   "execution_count": 5,
   "metadata": {},
   "outputs": [],
   "source": [
    "import re\n",
    "\n",
    "def extract_discount_percent(text):\n",
    "    match = re.search(r'\\d+%', text)\n",
    "    if match:\n",
    "        return match.group()\n",
    "    else:\n",
    "        return None"
   ]
  },
  {
   "cell_type": "code",
   "execution_count": 6,
   "metadata": {},
   "outputs": [],
   "source": [
    "df_entel = pd.read_csv('entel.csv', sep=';', decimal=',')\n",
    "df_banco_chile = pd.read_csv('banco_chile.csv', sep=';', decimal=',')\n",
    "df_falabella = pd.read_csv('falabella.csv', sep=';', decimal=',')\n",
    "\n",
    "\n",
    "df_concat = pd.concat([df_entel, df_banco_chile, df_falabella], ignore_index=True)\n",
    "df_concat.fillna('N_A')\n",
    "\n",
    "df_concat.to_csv('concatenado.csv', sep=';', decimal=',', index=False)"
   ]
  }
 ],
 "metadata": {
  "kernelspec": {
   "display_name": "base",
   "language": "python",
   "name": "python3"
  },
  "language_info": {
   "codemirror_mode": {
    "name": "ipython",
    "version": 3
   },
   "file_extension": ".py",
   "mimetype": "text/x-python",
   "name": "python",
   "nbconvert_exporter": "python",
   "pygments_lexer": "ipython3",
   "version": "3.9.13"
  },
  "orig_nbformat": 4,
  "vscode": {
   "interpreter": {
    "hash": "ad2bdc8ecc057115af97d19610ffacc2b4e99fae6737bb82f5d7fb13d2f2c186"
   }
  }
 },
 "nbformat": 4,
 "nbformat_minor": 2
}
